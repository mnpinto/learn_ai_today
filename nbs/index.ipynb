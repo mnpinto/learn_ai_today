{
 "cells": [
  {
   "cell_type": "markdown",
   "metadata": {},
   "source": [
    "# Learn AI Today\n",
    "\n",
    "> A series of notebooks and Medium stories starting with the basics of PyTorch and gradually moving forward. The initial notebooks will be based on a series of notebooks I wrote when learning myself about PyTorch and Deep Learning! I hope they are as usefull for you as they were for me!"
   ]
  }
 ],
 "metadata": {
  "kernelspec": {
   "display_name": "Python 3",
   "language": "python",
   "name": "python3"
  },
  "language_info": {
   "codemirror_mode": {
    "name": "ipython",
    "version": 3
   },
   "file_extension": ".py",
   "mimetype": "text/x-python",
   "name": "python",
   "nbconvert_exporter": "python",
   "pygments_lexer": "ipython3",
   "version": "3.7.3"
  }
 },
 "nbformat": 4,
 "nbformat_minor": 2
}
